{
 "cells": [
  {
   "cell_type": "markdown",
   "metadata": {},
   "source": [
    "# Loading A Data Set"
   ]
  },
  {
   "cell_type": "code",
   "execution_count": 2,
   "metadata": {},
   "outputs": [
    {
     "data": {
      "text/html": [
       "\n",
       "        <div>\n",
       "            <p><b>SparkContext</b></p>\n",
       "\n",
       "            <p><a href=\"http://172.24.55.86:4040\">Spark UI</a></p>\n",
       "\n",
       "            <dl>\n",
       "              <dt>Version</dt>\n",
       "                <dd><code>v2.3.3</code></dd>\n",
       "              <dt>Master</dt>\n",
       "                <dd><code>local[2]</code></dd>\n",
       "              <dt>AppName</dt>\n",
       "                <dd><code>PySparkShell</code></dd>\n",
       "            </dl>\n",
       "        </div>\n",
       "        "
      ],
      "text/plain": [
       "<SparkContext master=local[2] appName=PySparkShell>"
      ]
     },
     "execution_count": 2,
     "metadata": {},
     "output_type": "execute_result"
    }
   ],
   "source": [
    "# \"sc\" is the spark context\n",
    "sc"
   ]
  },
  {
   "cell_type": "markdown",
   "metadata": {},
   "source": [
    "# Loading Data\n",
    "\n",
    "Loading data uses a method on our spark contect called **textFile**. **textFile** is an example of a **Transformation** on our RDD. All operations that create of conver RDDs into other RDDs are called Trasformations."
   ]
  },
  {
   "cell_type": "code",
   "execution_count": 5,
   "metadata": {},
   "outputs": [],
   "source": [
    "filepath = \"file:///Users/cnicz/GitHub/Apache_Spark_Data_Exploration_Notes/1_Getting_Started_With_Sparks_RDD/TSLA.csv\"\n",
    "tsla = sc.textFile(filepath)"
   ]
  },
  {
   "cell_type": "code",
   "execution_count": 6,
   "metadata": {},
   "outputs": [
    {
     "data": {
      "text/plain": [
       "file:///Users/cnicz/GitHub/Apache_Spark_Data_Exploration_Notes/1_Getting_Started_With_Sparks_RDD/TSLA.csv MapPartitionsRDD[3] at textFile at NativeMethodAccessorImpl.java:0"
      ]
     },
     "execution_count": 6,
     "metadata": {},
     "output_type": "execute_result"
    }
   ],
   "source": [
    "tsla"
   ]
  },
  {
   "cell_type": "markdown",
   "metadata": {},
   "source": [
    "# Actions\n",
    "\n",
    "Actions are operations that we can perform on our RDDs to request data from them. Actions include: take, count, first, collect, etc."
   ]
  },
  {
   "cell_type": "code",
   "execution_count": 8,
   "metadata": {},
   "outputs": [
    {
     "data": {
      "text/plain": [
       "['Date,Open,High,Low,Close,Adj Close,Volume',\n",
       " '2019-02-14,303.380005,306.769989,301.000000,303.769989,303.769989,5200800',\n",
       " '2019-02-15,304.500000,308.000000,303.899994,307.880005,307.880005,3904900',\n",
       " '2019-02-19,306.559998,311.540009,305.470001,305.640015,305.640015,4168400',\n",
       " '2019-02-20,304.410004,306.299988,299.000000,302.559998,302.559998,7142100',\n",
       " '2019-02-21,301.809998,303.239990,290.500000,291.230011,291.230011,8909200',\n",
       " '2019-02-22,294.489990,296.500000,292.100006,294.709991,294.709991,5740600',\n",
       " '2019-02-25,297.910004,302.899994,297.000000,298.769989,298.769989,6626500',\n",
       " '2019-02-26,292.220001,302.010010,288.769989,297.859985,297.859985,8582500',\n",
       " '2019-02-27,301.779999,316.299988,300.549988,314.739990,314.739990,11183900',\n",
       " '2019-02-28,318.920013,320.000000,310.809998,319.880005,319.880005,10520700']"
      ]
     },
     "execution_count": 8,
     "metadata": {},
     "output_type": "execute_result"
    }
   ],
   "source": [
    "tsla.take(11)"
   ]
  },
  {
   "cell_type": "code",
   "execution_count": 9,
   "metadata": {},
   "outputs": [
    {
     "data": {
      "text/plain": [
       "21"
      ]
     },
     "execution_count": 9,
     "metadata": {},
     "output_type": "execute_result"
    }
   ],
   "source": [
    "tsla.count()"
   ]
  },
  {
   "cell_type": "code",
   "execution_count": 10,
   "metadata": {},
   "outputs": [
    {
     "data": {
      "text/plain": [
       "'Date,Open,High,Low,Close,Adj Close,Volume'"
      ]
     },
     "execution_count": 10,
     "metadata": {},
     "output_type": "execute_result"
    }
   ],
   "source": [
    "tsla.first()"
   ]
  },
  {
   "cell_type": "code",
   "execution_count": 11,
   "metadata": {},
   "outputs": [
    {
     "data": {
      "text/plain": [
       "['Date,Open,High,Low,Close,Adj Close,Volume',\n",
       " '2019-02-14,303.380005,306.769989,301.000000,303.769989,303.769989,5200800',\n",
       " '2019-02-15,304.500000,308.000000,303.899994,307.880005,307.880005,3904900',\n",
       " '2019-02-19,306.559998,311.540009,305.470001,305.640015,305.640015,4168400',\n",
       " '2019-02-20,304.410004,306.299988,299.000000,302.559998,302.559998,7142100',\n",
       " '2019-02-21,301.809998,303.239990,290.500000,291.230011,291.230011,8909200',\n",
       " '2019-02-22,294.489990,296.500000,292.100006,294.709991,294.709991,5740600',\n",
       " '2019-02-25,297.910004,302.899994,297.000000,298.769989,298.769989,6626500',\n",
       " '2019-02-26,292.220001,302.010010,288.769989,297.859985,297.859985,8582500',\n",
       " '2019-02-27,301.779999,316.299988,300.549988,314.739990,314.739990,11183900',\n",
       " '2019-02-28,318.920013,320.000000,310.809998,319.880005,319.880005,10520700',\n",
       " '2019-03-01,306.940002,307.130005,291.899994,294.790009,294.790009,22911400',\n",
       " '2019-03-04,298.119995,299.000000,282.779999,285.359985,285.359985,17096800',\n",
       " '2019-03-05,282.000000,284.000000,270.100006,276.540009,276.540009,18764700',\n",
       " '2019-03-06,276.480011,281.510010,274.390015,276.239990,276.239990,10335500',\n",
       " '2019-03-07,278.839996,284.700012,274.250000,276.589996,276.589996,9442500',\n",
       " '2019-03-08,276.910004,285.589996,275.890015,284.140015,284.140015,8819600',\n",
       " '2019-03-11,283.519989,291.279999,280.500000,290.920013,290.920013,7392300',\n",
       " '2019-03-12,286.489990,288.070007,281.059998,283.359985,283.359985,7504100',\n",
       " '2019-03-13,283.899994,291.989990,282.700012,288.959991,288.959991,6837400',\n",
       " '2019-03-14,292.450012,295.390015,288.290009,291.929993,291.929993,5433119']"
      ]
     },
     "execution_count": 11,
     "metadata": {},
     "output_type": "execute_result"
    }
   ],
   "source": [
    "tsla.collect()"
   ]
  }
 ],
 "metadata": {
  "kernelspec": {
   "display_name": "Python 3",
   "language": "python",
   "name": "python3"
  },
  "language_info": {
   "codemirror_mode": {
    "name": "ipython",
    "version": 3
   },
   "file_extension": ".py",
   "mimetype": "text/x-python",
   "name": "python",
   "nbconvert_exporter": "python",
   "pygments_lexer": "ipython3",
   "version": "3.6.8"
  }
 },
 "nbformat": 4,
 "nbformat_minor": 2
}
